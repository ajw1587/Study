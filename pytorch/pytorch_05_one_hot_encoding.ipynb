{
  "nbformat": 4,
  "nbformat_minor": 0,
  "metadata": {
    "colab": {
      "name": "pytorch_05_one_hot_encoding.ipynb",
      "provenance": [],
      "collapsed_sections": [],
      "authorship_tag": "ABX9TyOvgjpX4rhzuX+r55jGsg4k",
      "include_colab_link": true
    },
    "kernelspec": {
      "name": "python3",
      "display_name": "Python 3"
    }
  },
  "cells": [
    {
      "cell_type": "markdown",
      "metadata": {
        "id": "view-in-github",
        "colab_type": "text"
      },
      "source": [
        "<a href=\"https://colab.research.google.com/github/ajw1587/Study/blob/master/pytorch/pytorch_05_one_hot_encoding.ipynb\" target=\"_parent\"><img src=\"https://colab.research.google.com/assets/colab-badge.svg\" alt=\"Open In Colab\"/></a>"
      ]
    },
    {
      "cell_type": "code",
      "metadata": {
        "colab": {
          "base_uri": "https://localhost:8080/"
        },
        "id": "4mr_0aDe74zu",
        "outputId": "5662c9f7-c185-406c-c4ed-061f50b8242b"
      },
      "source": [
        "from google.colab import drive\r\n",
        "drive.mount('/content/gdrive/')\r\n",
        "\r\n",
        "import torch\r\n",
        "import torch.nn as nn\r\n",
        "import torch.nn.functional as F\r\n",
        "import torch.optim as optim\r\n",
        "\r\n",
        "y = torch.randint(5, (3,)).long()\r\n",
        "print(y)\r\n",
        "\r\n",
        "y_one_hot = torch.zeros_like(hypothesis)\r\n",
        "y_one_hot.scatter_(1, y.unsqueeze(1), 1)    # 1차원 기준으로 y.unsqueeze(1)위치의 값을 1로 바꿔준다.\r\n",
        "print(y_one_hot)\r\n",
        "# print(y.unsqueeze(1))"
      ],
      "execution_count": 50,
      "outputs": [
        {
          "output_type": "stream",
          "text": [
            "Drive already mounted at /content/gdrive/; to attempt to forcibly remount, call drive.mount(\"/content/gdrive/\", force_remount=True).\n",
            "tensor([2, 4, 2])\n",
            "tensor([[0., 0., 1., 0., 0.],\n",
            "        [0., 0., 0., 0., 1.],\n",
            "        [0., 0., 1., 0., 0.]])\n"
          ],
          "name": "stdout"
        }
      ]
    }
  ]
}