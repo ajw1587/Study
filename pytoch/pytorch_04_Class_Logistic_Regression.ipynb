{
  "nbformat": 4,
  "nbformat_minor": 0,
  "metadata": {
    "colab": {
      "name": "pytorch_04_Class_Logistic_Regression.ipynb",
      "provenance": [],
      "collapsed_sections": []
    },
    "kernelspec": {
      "name": "python3",
      "display_name": "Python 3"
    }
  },
  "cells": [
    {
      "cell_type": "code",
      "metadata": {
        "colab": {
          "base_uri": "https://localhost:8080/"
        },
        "id": "4mr_0aDe74zu",
        "outputId": "29c28f43-8bb3-404e-e02b-6de756001d36"
      },
      "source": [
        "from google.colab import drive\r\n",
        "drive.mount('/content/gdrive/')\r\n",
        "\r\n",
        "import torch\r\n",
        "import torch.nn as nn\r\n",
        "import torch.nn.functional as F\r\n",
        "import torch.optim as optim\r\n",
        "\r\n",
        "# 데이터\r\n",
        "x_data = [[1, 2], [2, 3], [3, 1], [4, 3], [5, 3], [6, 2]]\r\n",
        "y_data = [[0], [0], [0], [1], [1], [1]]\r\n",
        "x_train = torch.FloatTensor(x_data)\r\n",
        "y_train = torch.FloatTensor(y_data)\r\n",
        "\r\n",
        "# 모델\r\n",
        "class BinaryClassifier(nn.Module):\r\n",
        "  def __init__(self):\r\n",
        "    super().__init__()\r\n",
        "    self.linear = nn.Linear(2, 1)\r\n",
        "    self.sigmoid = nn.Sigmoid()\r\n",
        "\r\n",
        "  def forward(self, x):\r\n",
        "    return self.sigmoid(self.linear(x))\r\n",
        "\r\n",
        "model = BinaryClassifier()\r\n",
        "\r\n",
        "# optimizer 설정\r\n",
        "optimizer = optim.SGD(model.parameters(), lr = 1)\r\n",
        "\r\n",
        "# Epoch\r\n",
        "nb_epochs = 1000\r\n",
        "for epoch in range(nb_epochs):\r\n",
        "\r\n",
        "  # H(x) 계산\r\n",
        "  hypothesis = model(x_train)\r\n",
        "\r\n",
        "  # cost 계산\r\n",
        "  cost = F.binary_cross_entropy(hypothesis, y_train)\r\n",
        "\r\n",
        "  # cost로 H(x) 개선\r\n",
        "  optimizer.zero_grad()\r\n",
        "  cost.backward()\r\n",
        "  optimizer.step()\r\n",
        "\r\n",
        "  # 로그 출력\r\n",
        "  if epoch % 100 == 0:\r\n",
        "    prediction = hypothesis >= torch.FloatTensor([0.5])\r\n",
        "    correct_prediction = prediction.float() == y_train\r\n",
        "\r\n",
        "    accuracy = correct_prediction.sum().item() / len(correct_prediction)\r\n",
        "\r\n",
        "    print('Epoch {:4d}/{}        Cost: {:.6f}        Accuracy {:2.2f}%'.format( # 각 에포크마다 정확도를 출력\r\n",
        "            epoch, nb_epochs, cost.item(), accuracy * 100))"
      ],
      "execution_count": 4,
      "outputs": [
        {
          "output_type": "stream",
          "text": [
            "Drive already mounted at /content/gdrive/; to attempt to forcibly remount, call drive.mount(\"/content/gdrive/\", force_remount=True).\n",
            "Epoch    0/1000        Cost: 1.148529        Accuracy 50.00%\n",
            "Epoch  100/1000        Cost: 0.136812        Accuracy 100.00%\n",
            "Epoch  200/1000        Cost: 0.081368        Accuracy 100.00%\n",
            "Epoch  300/1000        Cost: 0.058266        Accuracy 100.00%\n",
            "Epoch  400/1000        Cost: 0.045521        Accuracy 100.00%\n",
            "Epoch  500/1000        Cost: 0.037410        Accuracy 100.00%\n",
            "Epoch  600/1000        Cost: 0.031779        Accuracy 100.00%\n",
            "Epoch  700/1000        Cost: 0.027637        Accuracy 100.00%\n",
            "Epoch  800/1000        Cost: 0.024457        Accuracy 100.00%\n",
            "Epoch  900/1000        Cost: 0.021939        Accuracy 100.00%\n"
          ],
          "name": "stdout"
        }
      ]
    }
  ]
}