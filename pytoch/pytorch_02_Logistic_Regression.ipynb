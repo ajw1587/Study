{
  "nbformat": 4,
  "nbformat_minor": 0,
  "metadata": {
    "colab": {
      "name": "pytorch_02_Logistic_Regression.ipynb",
      "provenance": [],
      "collapsed_sections": []
    },
    "kernelspec": {
      "name": "python3",
      "display_name": "Python 3"
    }
  },
  "cells": [
    {
      "cell_type": "code",
      "metadata": {
        "colab": {
          "base_uri": "https://localhost:8080/"
        },
        "id": "WZwJA66DVn8j",
        "outputId": "4240dd76-93bb-416c-ef49-3aec187a0684"
      },
      "source": [
        "from google.colab import drive\r\n",
        "drive.mount('/content/gdrive/')\r\n",
        "\r\n",
        "import torch\r\n",
        "import torch.nn as nn\r\n",
        "import torch.nn.functional as F\r\n",
        "import torch.optim as optim\r\n",
        "torch.manual_seed(1)\r\n",
        "\r\n",
        "# cost Function: (H(x),y)=−[ylogH(x)+(1−y)log(1−H(x))]\r\n",
        "# https://wikidocs.net/57805\r\n",
        "\r\n",
        "x_data = [[1, 2], [2, 3], [3, 1], [4, 3], [5, 3], [6, 2]]\r\n",
        "y_data = [[0], [0], [0], [1], [1], [1]]\r\n",
        "x_train = torch.FloatTensor(x_data)\r\n",
        "y_train = torch.FloatTensor(y_data)\r\n",
        "\r\n",
        "torch.Size([6, 2])\r\n",
        "torch.Size([6, 1])\r\n",
        "\r\n",
        "# 모델 초기화\r\n",
        "W = torch.zeros((2, 1), requires_grad = True)\r\n",
        "b = torch.zeros(1, requires_grad = True)\r\n",
        "\r\n",
        "# optimizer 설정\r\n",
        "optimizer = torch.optim.SGD([W, b], lr = 1)\r\n",
        "\r\n",
        "nb_epochs = 1000\r\n",
        "for epoch in range(nb_epochs):\r\n",
        "  # Cost 계산\r\n",
        "  # torch에서 sigmoid 함수 지원\r\n",
        "  hypothesis2 = torch.sigmoid(x_train.matmul(W) + b)\r\n",
        "  cost = -(y_train * torch.log(hypothesis2) + \r\n",
        "             (1 - y_train) * torch.log(1 - hypothesis2)).mean()\r\n",
        "\r\n",
        "  # cost로 H(x) 개선\r\n",
        "  optimizer.zero_grad()\r\n",
        "  cost.backward()\r\n",
        "  optimizer.step()\r\n",
        "\r\n",
        "  if epoch % 100 == 0:\r\n",
        "    print('Epoch {:4d}/{}     Cost: {:.6f}'.format(epoch, nb_epochs, cost.item()))\r\n",
        "\r\n",
        "# 예측값 출력\r\n",
        "hypothesis = torch.sigmoid(x_train.matmul(W) + b)\r\n",
        "print(hypothesis)\r\n",
        "\r\n",
        "prediction = hypothesis >= torch.FloatTensor([0.5])\r\n",
        "print(prediction)"
      ],
      "execution_count": 11,
      "outputs": [
        {
          "output_type": "stream",
          "text": [
            "Drive already mounted at /content/gdrive/; to attempt to forcibly remount, call drive.mount(\"/content/gdrive/\", force_remount=True).\n",
            "Epoch    0/1000     Cost: 0.693147\n",
            "Epoch  100/1000     Cost: 0.134722\n",
            "Epoch  200/1000     Cost: 0.080643\n",
            "Epoch  300/1000     Cost: 0.057900\n",
            "Epoch  400/1000     Cost: 0.045300\n",
            "Epoch  500/1000     Cost: 0.037261\n",
            "Epoch  600/1000     Cost: 0.031673\n",
            "Epoch  700/1000     Cost: 0.027556\n",
            "Epoch  800/1000     Cost: 0.024394\n",
            "Epoch  900/1000     Cost: 0.021888\n",
            "tensor([[2.7711e-04],\n",
            "        [3.1636e-02],\n",
            "        [3.9014e-02],\n",
            "        [9.5618e-01],\n",
            "        [9.9823e-01],\n",
            "        [9.9969e-01]], grad_fn=<SigmoidBackward>)\n",
            "tensor([[False],\n",
            "        [False],\n",
            "        [False],\n",
            "        [ True],\n",
            "        [ True],\n",
            "        [ True]])\n"
          ],
          "name": "stdout"
        }
      ]
    }
  ]
}